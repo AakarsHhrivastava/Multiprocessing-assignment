{
 "cells": [
  {
   "cell_type": "markdown",
   "id": "0b6497ab-cee4-43c5-8760-67d3bd1e8299",
   "metadata": {},
   "source": [
    "### Q1. What is multiprocessing in python? Why is it useful?"
   ]
  },
  {
   "cell_type": "code",
   "execution_count": 1,
   "id": "f6c63cc1-2623-4f47-af37-209d68ef6222",
   "metadata": {},
   "outputs": [],
   "source": [
    "#Multiprocessing in Python is a module that enables the execution of multiple processes concurrently. It provides a way to utilize multiple processors or processor cores to execute tasks in parallel. Each process runs in its own separate memory space and has its own instance of the Python interpreter, allowing true parallelism."
   ]
  },
  {
   "cell_type": "code",
   "execution_count": 2,
   "id": "d2957849-5198-4cdd-8606-3d838dc1107d",
   "metadata": {},
   "outputs": [],
   "source": [
    "# Here are some reasons why multiprocessing is useful\n",
    "#1 Performance and Utilization\n",
    "#2 Avoiding Global Interpreter Lock (GIL)\n",
    "#3 Isolation and Fault Tolerance\n",
    "#4 Scalability and Distributability\n"
   ]
  },
  {
   "cell_type": "markdown",
   "id": "84745072-92ed-46ac-838a-37aef3c32571",
   "metadata": {},
   "source": [
    "### Q2. What are the differences between multiprocessing and multithreading?"
   ]
  },
  {
   "cell_type": "code",
   "execution_count": 3,
   "id": "8cb37921-4271-496e-869a-f17b7591592b",
   "metadata": {},
   "outputs": [],
   "source": [
    "#multiprocessing and multithreading provide different approaches to achieving concurrency in a program. Multiprocessing enables true parallel execution with independent processes, suitable for CPU-bound tasks and efficient utilization of multiple cores. Multithreading allows for concurrent execution within a single process, beneficial for I/O-bound tasks and maintaining program responsiveness. The choice between multiprocessing and multithreading depends on the specific requirements, workload characteristics, and desired performance characteristics of the program."
   ]
  },
  {
   "cell_type": "markdown",
   "id": "28306438-a8bf-493c-9471-473e5a9d1e08",
   "metadata": {},
   "source": [
    "### Q3. Write a python code to create a process using the multiprocessing module."
   ]
  },
  {
   "cell_type": "code",
   "execution_count": 7,
   "id": "4c23a5c4-fd53-4e29-b5ca-e94e60fedcd7",
   "metadata": {},
   "outputs": [
    {
     "name": "stdout",
     "output_type": "stream",
     "text": [
      "The square of 5 is: 25\n"
     ]
    }
   ],
   "source": [
    "import multiprocessing\n",
    "\n",
    "def square(number):\n",
    "    result = number**2\n",
    "    print(f\"The square of {number} is: {result}\")\n",
    "    \n",
    "if __name__ == \"__main__\":\n",
    "    process = multiprocessing.Process(target=square, args= (5, ))\n",
    "    \n",
    "    process.start()\n",
    "    process.join()\n",
    "    "
   ]
  },
  {
   "cell_type": "markdown",
   "id": "37ca2697-480b-4633-9c8e-4eb84d5d748f",
   "metadata": {},
   "source": [
    "### Q4. What is a multiprocessing pool in python? Why is it used?"
   ]
  },
  {
   "cell_type": "code",
   "execution_count": 8,
   "id": "c93e5e01-4c3d-4bae-8673-8d054f118a9d",
   "metadata": {},
   "outputs": [],
   "source": [
    "#A multiprocessing pool in Python, specifically the multiprocessing.Pool class, is a convenient way to distribute tasks across multiple processes and manage the execution of these tasks in a pool of worker processes. It provides a high-level interface for parallel processing."
   ]
  },
  {
   "cell_type": "code",
   "execution_count": 9,
   "id": "4a78bd02-2da8-4d4c-9812-cab829532120",
   "metadata": {},
   "outputs": [],
   "source": [
    "# why is it used \n",
    "\n",
    "#1 Concurrent Execution\n",
    "#2 Task Distribution\n",
    "#3 Simplified Interface\n",
    "#4 Efficiency and Performance\n"
   ]
  },
  {
   "cell_type": "markdown",
   "id": "6e813578-a0fb-4499-998d-0ac4c679262c",
   "metadata": {},
   "source": [
    "### Q5. How can we create a pool of worker processes in python using the multiprocessing module?"
   ]
  },
  {
   "cell_type": "code",
   "execution_count": 1,
   "id": "47783b04-59c0-45d7-9131-0948eb9a0664",
   "metadata": {},
   "outputs": [],
   "source": [
    "import multiprocessing\n",
    "\n",
    "def square(number):\n",
    "    return number ** 2\n",
    "\n",
    "if __name__ == \"__main__\":\n",
    "    \n",
    "    pool = multiprocessing.Pool(processes=3)\n",
    "\n",
    "    \n",
    "    numbers = [1, 2, 3, 4, 5]\n",
    "\n",
    "    results = pool.map(square, numbers)\n",
    "\n",
    "    pool.close()\n",
    "    pool.join()"
   ]
  },
  {
   "cell_type": "markdown",
   "id": "f6dffb4a-44ce-49d0-a4c1-7eee3f9b4a80",
   "metadata": {},
   "source": [
    "### Q6. Write a python program to create 4 processes, each process should print a different number using the multiprocessing module in python."
   ]
  },
  {
   "cell_type": "code",
   "execution_count": null,
   "id": "9cb1a6e2-f3b9-4a91-be12-bcaede0bdfb0",
   "metadata": {},
   "outputs": [],
   "source": [
    "import multiprocessing\n",
    "\n",
    "def print_number(number):\n",
    "    print(f\"Process ID: {multiprocessing.current_process().pid}, Number: {number}\")\n",
    "\n",
    "if __name__ == \"__main__\":\n",
    "    processes = []\n",
    "\n",
    "    for number in range(1, 5):\n",
    "        process = multiprocessing.Process(target=print_number, args=(number,))\n",
    "        processes.append(process)\n",
    "        process.start()\n",
    "\n",
    "    for process in processes:\n",
    "        process.join()\n",
    "\n",
    "    print(\"Process execution completed.\")"
   ]
  }
 ],
 "metadata": {
  "kernelspec": {
   "display_name": "Python 3 (ipykernel)",
   "language": "python",
   "name": "python3"
  },
  "language_info": {
   "codemirror_mode": {
    "name": "ipython",
    "version": 3
   },
   "file_extension": ".py",
   "mimetype": "text/x-python",
   "name": "python",
   "nbconvert_exporter": "python",
   "pygments_lexer": "ipython3",
   "version": "3.10.8"
  }
 },
 "nbformat": 4,
 "nbformat_minor": 5
}
